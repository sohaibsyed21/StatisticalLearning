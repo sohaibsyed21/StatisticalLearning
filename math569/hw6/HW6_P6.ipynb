{
 "cells": [
  {
   "attachments": {},
   "cell_type": "markdown",
   "metadata": {},
   "source": [
    "# Problem 6"
   ]
  },
  {
   "attachments": {},
   "cell_type": "markdown",
   "metadata": {},
   "source": [
    "## help from\n",
    "\n",
    "https://machinelearningmastery.com/tutorial-first-neural-network-python-keras/\n",
    "\n",
    "https://www.educative.io/answers/how-to-perform-one-hot-encoding-using-keras\n",
    "\n",
    "https://machinelearningmastery.com/how-to-choose-loss-functions-when-training-deep-learning-neural-networks/\n"
   ]
  },
  {
   "cell_type": "code",
   "execution_count": 1,
   "metadata": {},
   "outputs": [],
   "source": [
    "import numpy as np\n",
    "import pandas as pd\n",
    "from sklearn.model_selection import train_test_split\n",
    "from sklearn.linear_model import LogisticRegression\n",
    "from tensorflow.keras.models import Sequential\n",
    "from tensorflow.keras.layers import Dense\n",
    "from keras.utils import to_categorical\n",
    "\n"
   ]
  },
  {
   "cell_type": "code",
   "execution_count": 2,
   "metadata": {},
   "outputs": [],
   "source": [
    "np.random.seed(0)\n",
    "digit0=np.loadtxt('./digit0.txt',delimiter=',')\n",
    "digit1=np.loadtxt('./digit1.txt',delimiter=',')\n",
    "digit2=np.loadtxt('./digit2.txt',delimiter=',')\n",
    "\n",
    "labels0=np.zeros(len(digit0))\n",
    "labels1=np.ones(len(digit1))\n",
    "labels2=np.ones(len(digit2))*2\n"
   ]
  },
  {
   "cell_type": "code",
   "execution_count": 3,
   "metadata": {},
   "outputs": [
    {
     "name": "stdout",
     "output_type": "stream",
     "text": [
      "(1194,)\n",
      "(1005,)\n",
      "(731,)\n"
     ]
    }
   ],
   "source": [
    "\n",
    "print(labels0.shape)\n",
    "print(labels1.shape)\n",
    "print(labels2.shape)\n"
   ]
  },
  {
   "cell_type": "code",
   "execution_count": 4,
   "metadata": {},
   "outputs": [],
   "source": [
    "digits = np.concatenate((digit0, digit1, digit2), axis = 0)\n",
    "labels = to_categorical(np.concatenate((labels0, labels1, labels2), axis = 0))\n"
   ]
  },
  {
   "cell_type": "code",
   "execution_count": 5,
   "metadata": {},
   "outputs": [],
   "source": [
    "X_train, X_test, y_train, y_test = train_test_split(digits, labels, test_size=0.3, random_state=np.random.seed(0))\n"
   ]
  },
  {
   "cell_type": "code",
   "execution_count": 6,
   "metadata": {},
   "outputs": [
    {
     "data": {
      "text/plain": [
       "(2051, 3)"
      ]
     },
     "execution_count": 6,
     "metadata": {},
     "output_type": "execute_result"
    }
   ],
   "source": [
    "y_train.shape"
   ]
  },
  {
   "cell_type": "code",
   "execution_count": 7,
   "metadata": {},
   "outputs": [],
   "source": [
    "# activation function for out put as stated in text is sigmoidal as on page 406\n",
    "model = Sequential()\n",
    "model.add(Dense(12, input_shape=(256,), activation='relu'))\n",
    "model.add(Dense(3, activation='sigmoid'))\n"
   ]
  },
  {
   "cell_type": "code",
   "execution_count": 8,
   "metadata": {},
   "outputs": [
    {
     "name": "stdout",
     "output_type": "stream",
     "text": [
      "Epoch 1/20\n",
      "206/206 [==============================] - 1s 2ms/step - loss: 0.0376 - accuracy: 0.9488\n",
      "Epoch 2/20\n",
      "206/206 [==============================] - 0s 2ms/step - loss: 0.0073 - accuracy: 0.9912\n",
      "Epoch 3/20\n",
      "206/206 [==============================] - 0s 2ms/step - loss: 0.0047 - accuracy: 0.9956\n",
      "Epoch 4/20\n",
      "206/206 [==============================] - 0s 2ms/step - loss: 0.0034 - accuracy: 0.9966\n",
      "Epoch 5/20\n",
      "206/206 [==============================] - 0s 2ms/step - loss: 0.0029 - accuracy: 0.9961\n",
      "Epoch 6/20\n",
      "206/206 [==============================] - 0s 2ms/step - loss: 0.0021 - accuracy: 0.9976\n",
      "Epoch 7/20\n",
      "206/206 [==============================] - 0s 2ms/step - loss: 0.0018 - accuracy: 0.9980\n",
      "Epoch 8/20\n",
      "206/206 [==============================] - 0s 2ms/step - loss: 0.0014 - accuracy: 0.9985\n",
      "Epoch 9/20\n",
      "206/206 [==============================] - 0s 2ms/step - loss: 0.0013 - accuracy: 0.9990\n",
      "Epoch 10/20\n",
      "206/206 [==============================] - 0s 2ms/step - loss: 0.0011 - accuracy: 0.9990\n",
      "Epoch 11/20\n",
      "206/206 [==============================] - 0s 2ms/step - loss: 8.5682e-04 - accuracy: 0.9995\n",
      "Epoch 12/20\n",
      "206/206 [==============================] - 0s 2ms/step - loss: 6.8668e-04 - accuracy: 0.9995\n",
      "Epoch 13/20\n",
      "206/206 [==============================] - 0s 2ms/step - loss: 5.4707e-04 - accuracy: 0.9995\n",
      "Epoch 14/20\n",
      "206/206 [==============================] - 1s 3ms/step - loss: 4.3651e-04 - accuracy: 0.9995\n",
      "Epoch 15/20\n",
      "206/206 [==============================] - 0s 2ms/step - loss: 3.5810e-04 - accuracy: 1.0000\n",
      "Epoch 16/20\n",
      "206/206 [==============================] - 1s 3ms/step - loss: 3.0314e-04 - accuracy: 1.0000\n",
      "Epoch 17/20\n",
      "206/206 [==============================] - 0s 2ms/step - loss: 2.0303e-04 - accuracy: 1.0000\n",
      "Epoch 18/20\n",
      "206/206 [==============================] - 0s 2ms/step - loss: 1.8370e-04 - accuracy: 1.0000\n",
      "Epoch 19/20\n",
      "206/206 [==============================] - 0s 2ms/step - loss: 1.5368e-04 - accuracy: 1.0000\n",
      "Epoch 20/20\n",
      "206/206 [==============================] - 0s 2ms/step - loss: 9.9157e-05 - accuracy: 1.0000\n"
     ]
    },
    {
     "data": {
      "text/plain": [
       "<keras.callbacks.History at 0x1a1ef599e90>"
      ]
     },
     "execution_count": 8,
     "metadata": {},
     "output_type": "execute_result"
    }
   ],
   "source": [
    "# loss function as stated on page 406 of text is sum-squares-error\n",
    "model.compile(loss='mse', optimizer='adam', metrics=['accuracy'])\n",
    "model.fit(X_train, y_train, epochs=20, batch_size=10)"
   ]
  },
  {
   "attachments": {},
   "cell_type": "markdown",
   "metadata": {},
   "source": [
    "Just like in text the training error was 0% since more parameters than observations"
   ]
  },
  {
   "cell_type": "code",
   "execution_count": 9,
   "metadata": {},
   "outputs": [
    {
     "name": "stdout",
     "output_type": "stream",
     "text": [
      "28/28 [==============================] - 0s 2ms/step - loss: 0.0019 - accuracy: 0.9954\n",
      "Accuracy: 99.54\n"
     ]
    }
   ],
   "source": [
    "_, accuracy = model.evaluate(X_test, y_test)\n",
    "print('Accuracy: %.2f' % (accuracy*100))"
   ]
  },
  {
   "attachments": {},
   "cell_type": "markdown",
   "metadata": {},
   "source": [
    "Now compare to Logistic regression"
   ]
  },
  {
   "cell_type": "code",
   "execution_count": 10,
   "metadata": {},
   "outputs": [
    {
     "data": {
      "text/plain": [
       "0.9954493742889647"
      ]
     },
     "execution_count": 10,
     "metadata": {},
     "output_type": "execute_result"
    }
   ],
   "source": [
    "# recreate labels without one-hot-encoding\n",
    "non_ohe_labels=np.concatenate((labels0, labels1, labels2), axis = 0)\n",
    "X_train, X_test, y_train, y_test = train_test_split(digits, non_ohe_labels, test_size=0.3, random_state=np.random.seed(0))\n",
    "clf = LogisticRegression(random_state=np.random.seed(0),max_iter=2000).fit(X_train, y_train)\n",
    "\n",
    "clf.score(X_test, y_test)"
   ]
  },
  {
   "attachments": {},
   "cell_type": "markdown",
   "metadata": {},
   "source": [
    "the two models are essentially the same accuracy"
   ]
  }
 ],
 "metadata": {
  "kernelspec": {
   "display_name": "Python 3",
   "language": "python",
   "name": "python3"
  },
  "language_info": {
   "codemirror_mode": {
    "name": "ipython",
    "version": 3
   },
   "file_extension": ".py",
   "mimetype": "text/x-python",
   "name": "python",
   "nbconvert_exporter": "python",
   "pygments_lexer": "ipython3",
   "version": "3.11.1"
  },
  "orig_nbformat": 4
 },
 "nbformat": 4,
 "nbformat_minor": 2
}
