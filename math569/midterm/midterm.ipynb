{
 "cells": [
  {
   "cell_type": "code",
   "execution_count": 1,
   "metadata": {},
   "outputs": [],
   "source": [
    "import pandas as pd\n",
    "import numpy as np"
   ]
  },
  {
   "cell_type": "code",
   "execution_count": 2,
   "metadata": {},
   "outputs": [],
   "source": [
    "prosttate_train=pd.read_csv(\"./prostate.training.txt\",sep='\\t')\n",
    "X=prosttate_train[[\"lcavol\",\"lweight\",\"age\",\"lbph\",\"svi\",\"lcp\",\"gleason\",\"pgg45\"]].copy()"
   ]
  },
  {
   "cell_type": "code",
   "execution_count": 3,
   "metadata": {},
   "outputs": [],
   "source": [
    "y= prosttate_train[[\"lpsa\"]].copy()\n",
    "b0=y.mean().to_numpy()\n"
   ]
  },
  {
   "cell_type": "code",
   "execution_count": 4,
   "metadata": {},
   "outputs": [],
   "source": [
    "# get xbar of each predictor\n",
    "x_bar=X.mean()\n"
   ]
  },
  {
   "cell_type": "code",
   "execution_count": 5,
   "metadata": {},
   "outputs": [
    {
     "data": {
      "text/plain": [
       "lcavol      1.110862\n",
       "lweight     0.427979\n",
       "age         7.279082\n",
       "lbph        1.462783\n",
       "svi         0.346827\n",
       "lcp         1.308962\n",
       "gleason     0.754209\n",
       "pgg45      27.858077\n",
       "dtype: float64"
      ]
     },
     "execution_count": 5,
     "metadata": {},
     "output_type": "execute_result"
    }
   ],
   "source": [
    "# centered X matrix\n",
    "trainstandard_dev=X.std()\n",
    "X=X-x_bar\n",
    "trainstandard_dev"
   ]
  },
  {
   "cell_type": "code",
   "execution_count": 6,
   "metadata": {},
   "outputs": [],
   "source": [
    "# scale by dividing by standard deviation since we do not have orthonormal input\n",
    "X=X/trainstandard_dev\n"
   ]
  },
  {
   "cell_type": "code",
   "execution_count": 7,
   "metadata": {},
   "outputs": [],
   "source": [
    "# initialize different lambdas\n",
    "l=[0,10,20,30,40,50,60,70,80,90,100]\n",
    "# calculate different set of beta matrices based off the different lambda values\n",
    "I=np.identity(X.shape[1])\n",
    "B_ridge0=(np.linalg.inv((X.T @ X) + l[0]*I)) @ X.T @ y\n",
    "B_ridge10=(np.linalg.inv((X.T @ X) + l[1]*I)) @ X.T @ y\n",
    "B_ridge20=(np.linalg.inv((X.T @ X) + l[2]*I)) @ X.T @ y\n",
    "B_ridge30=(np.linalg.inv((X.T @ X) + l[3]*I)) @ X.T @ y\n",
    "B_ridge40=(np.linalg.inv((X.T @ X) + l[4]*I)) @ X.T @ y\n",
    "B_ridge50=(np.linalg.inv((X.T @ X) + l[5]*I)) @ X.T @ y\n",
    "B_ridge60=(np.linalg.inv((X.T @ X) + l[6]*I)) @ X.T @ y\n",
    "B_ridge70=(np.linalg.inv((X.T @ X) + l[7]*I)) @ X.T @ y\n",
    "B_ridge80=(np.linalg.inv((X.T @ X) + l[8]*I)) @ X.T @ y\n",
    "B_ridge90=(np.linalg.inv((X.T @ X) + l[9]*I)) @ X.T @ y\n",
    "B_ridge100=(np.linalg.inv((X.T @ X) + l[10]*I)) @ X.T @ y"
   ]
  },
  {
   "cell_type": "code",
   "execution_count": 8,
   "metadata": {},
   "outputs": [
    {
     "data": {
      "text/html": [
       "<div>\n",
       "<style scoped>\n",
       "    .dataframe tbody tr th:only-of-type {\n",
       "        vertical-align: middle;\n",
       "    }\n",
       "\n",
       "    .dataframe tbody tr th {\n",
       "        vertical-align: top;\n",
       "    }\n",
       "\n",
       "    .dataframe thead th {\n",
       "        text-align: right;\n",
       "    }\n",
       "</style>\n",
       "<table border=\"1\" class=\"dataframe\">\n",
       "  <thead>\n",
       "    <tr style=\"text-align: right;\">\n",
       "      <th></th>\n",
       "      <th>lcavol</th>\n",
       "      <th>lweight</th>\n",
       "      <th>age</th>\n",
       "      <th>lbph</th>\n",
       "      <th>svi</th>\n",
       "      <th>lcp</th>\n",
       "      <th>gleason</th>\n",
       "      <th>pgg45</th>\n",
       "    </tr>\n",
       "  </thead>\n",
       "  <tbody>\n",
       "    <tr>\n",
       "      <th>0</th>\n",
       "      <td>1.731656</td>\n",
       "      <td>3.369018</td>\n",
       "      <td>62</td>\n",
       "      <td>-1.386294</td>\n",
       "      <td>1</td>\n",
       "      <td>0.300105</td>\n",
       "      <td>7</td>\n",
       "      <td>30</td>\n",
       "    </tr>\n",
       "    <tr>\n",
       "      <th>1</th>\n",
       "      <td>2.807594</td>\n",
       "      <td>4.718052</td>\n",
       "      <td>65</td>\n",
       "      <td>-1.386294</td>\n",
       "      <td>1</td>\n",
       "      <td>2.463853</td>\n",
       "      <td>7</td>\n",
       "      <td>60</td>\n",
       "    </tr>\n",
       "    <tr>\n",
       "      <th>2</th>\n",
       "      <td>1.562346</td>\n",
       "      <td>3.695110</td>\n",
       "      <td>76</td>\n",
       "      <td>0.936093</td>\n",
       "      <td>1</td>\n",
       "      <td>0.810930</td>\n",
       "      <td>7</td>\n",
       "      <td>75</td>\n",
       "    </tr>\n",
       "    <tr>\n",
       "      <th>3</th>\n",
       "      <td>3.246491</td>\n",
       "      <td>4.101817</td>\n",
       "      <td>68</td>\n",
       "      <td>-1.386294</td>\n",
       "      <td>0</td>\n",
       "      <td>-1.386294</td>\n",
       "      <td>6</td>\n",
       "      <td>0</td>\n",
       "    </tr>\n",
       "    <tr>\n",
       "      <th>4</th>\n",
       "      <td>2.532903</td>\n",
       "      <td>3.677566</td>\n",
       "      <td>61</td>\n",
       "      <td>1.348073</td>\n",
       "      <td>1</td>\n",
       "      <td>-1.386294</td>\n",
       "      <td>7</td>\n",
       "      <td>15</td>\n",
       "    </tr>\n",
       "    <tr>\n",
       "      <th>5</th>\n",
       "      <td>2.830268</td>\n",
       "      <td>3.876396</td>\n",
       "      <td>68</td>\n",
       "      <td>-1.386294</td>\n",
       "      <td>1</td>\n",
       "      <td>1.321756</td>\n",
       "      <td>7</td>\n",
       "      <td>60</td>\n",
       "    </tr>\n",
       "    <tr>\n",
       "      <th>6</th>\n",
       "      <td>3.821004</td>\n",
       "      <td>3.896909</td>\n",
       "      <td>44</td>\n",
       "      <td>-1.386294</td>\n",
       "      <td>1</td>\n",
       "      <td>2.169054</td>\n",
       "      <td>7</td>\n",
       "      <td>40</td>\n",
       "    </tr>\n",
       "    <tr>\n",
       "      <th>7</th>\n",
       "      <td>2.907447</td>\n",
       "      <td>3.396185</td>\n",
       "      <td>52</td>\n",
       "      <td>-1.386294</td>\n",
       "      <td>1</td>\n",
       "      <td>2.463853</td>\n",
       "      <td>7</td>\n",
       "      <td>10</td>\n",
       "    </tr>\n",
       "    <tr>\n",
       "      <th>8</th>\n",
       "      <td>2.882564</td>\n",
       "      <td>3.773910</td>\n",
       "      <td>68</td>\n",
       "      <td>1.558145</td>\n",
       "      <td>1</td>\n",
       "      <td>1.558145</td>\n",
       "      <td>7</td>\n",
       "      <td>80</td>\n",
       "    </tr>\n",
       "    <tr>\n",
       "      <th>9</th>\n",
       "      <td>3.471966</td>\n",
       "      <td>3.974998</td>\n",
       "      <td>68</td>\n",
       "      <td>0.438255</td>\n",
       "      <td>1</td>\n",
       "      <td>2.904165</td>\n",
       "      <td>7</td>\n",
       "      <td>20</td>\n",
       "    </tr>\n",
       "  </tbody>\n",
       "</table>\n",
       "</div>"
      ],
      "text/plain": [
       "     lcavol   lweight  age      lbph  svi       lcp  gleason  pgg45\n",
       "0  1.731656  3.369018   62 -1.386294    1  0.300105        7     30\n",
       "1  2.807594  4.718052   65 -1.386294    1  2.463853        7     60\n",
       "2  1.562346  3.695110   76  0.936093    1  0.810930        7     75\n",
       "3  3.246491  4.101817   68 -1.386294    0 -1.386294        6      0\n",
       "4  2.532903  3.677566   61  1.348073    1 -1.386294        7     15\n",
       "5  2.830268  3.876396   68 -1.386294    1  1.321756        7     60\n",
       "6  3.821004  3.896909   44 -1.386294    1  2.169054        7     40\n",
       "7  2.907447  3.396185   52 -1.386294    1  2.463853        7     10\n",
       "8  2.882564  3.773910   68  1.558145    1  1.558145        7     80\n",
       "9  3.471966  3.974998   68  0.438255    1  2.904165        7     20"
      ]
     },
     "execution_count": 8,
     "metadata": {},
     "output_type": "execute_result"
    }
   ],
   "source": [
    "# load in test set for testing\n",
    "prosttate_test= pd.read_csv(\"./prostate.testing.txt\",sep='\\t')\n",
    "Xtest=prosttate_test[[\"lcavol\",\"lweight\",\"age\",\"lbph\",\"svi\",\"lcp\",\"gleason\",\"pgg45\"]].copy()\n",
    "Xtest"
   ]
  },
  {
   "cell_type": "code",
   "execution_count": 9,
   "metadata": {},
   "outputs": [],
   "source": [
    "# we should scale the test set as well to keep consistency. \n",
    "Xtest=(Xtest-x_bar)/trainstandard_dev\n"
   ]
  },
  {
   "cell_type": "code",
   "execution_count": 10,
   "metadata": {},
   "outputs": [
    {
     "data": {
      "text/html": [
       "<div>\n",
       "<style scoped>\n",
       "    .dataframe tbody tr th:only-of-type {\n",
       "        vertical-align: middle;\n",
       "    }\n",
       "\n",
       "    .dataframe tbody tr th {\n",
       "        vertical-align: top;\n",
       "    }\n",
       "\n",
       "    .dataframe thead th {\n",
       "        text-align: right;\n",
       "    }\n",
       "</style>\n",
       "<table border=\"1\" class=\"dataframe\">\n",
       "  <thead>\n",
       "    <tr style=\"text-align: right;\">\n",
       "      <th></th>\n",
       "      <th>lcavol</th>\n",
       "      <th>lweight</th>\n",
       "      <th>age</th>\n",
       "      <th>lbph</th>\n",
       "      <th>svi</th>\n",
       "      <th>lcp</th>\n",
       "      <th>gleason</th>\n",
       "      <th>pgg45</th>\n",
       "    </tr>\n",
       "  </thead>\n",
       "  <tbody>\n",
       "    <tr>\n",
       "      <th>0</th>\n",
       "      <td>0.491462</td>\n",
       "      <td>-0.548499</td>\n",
       "      <td>-0.266865</td>\n",
       "      <td>-1.055925</td>\n",
       "      <td>2.485591</td>\n",
       "      <td>0.480567</td>\n",
       "      <td>0.350523</td>\n",
       "      <td>0.262001</td>\n",
       "    </tr>\n",
       "    <tr>\n",
       "      <th>1</th>\n",
       "      <td>1.460023</td>\n",
       "      <td>2.603606</td>\n",
       "      <td>0.145275</td>\n",
       "      <td>-1.055925</td>\n",
       "      <td>2.485591</td>\n",
       "      <td>2.133594</td>\n",
       "      <td>0.350523</td>\n",
       "      <td>1.338888</td>\n",
       "    </tr>\n",
       "    <tr>\n",
       "      <th>2</th>\n",
       "      <td>0.339049</td>\n",
       "      <td>0.213436</td>\n",
       "      <td>1.656455</td>\n",
       "      <td>0.531725</td>\n",
       "      <td>2.485591</td>\n",
       "      <td>0.870820</td>\n",
       "      <td>0.350523</td>\n",
       "      <td>1.877332</td>\n",
       "    </tr>\n",
       "    <tr>\n",
       "      <th>3</th>\n",
       "      <td>1.855119</td>\n",
       "      <td>1.163733</td>\n",
       "      <td>0.557415</td>\n",
       "      <td>-1.055925</td>\n",
       "      <td>-0.397695</td>\n",
       "      <td>-0.807781</td>\n",
       "      <td>-0.975369</td>\n",
       "      <td>-0.814886</td>\n",
       "    </tr>\n",
       "    <tr>\n",
       "      <th>4</th>\n",
       "      <td>1.212746</td>\n",
       "      <td>0.172443</td>\n",
       "      <td>-0.404244</td>\n",
       "      <td>0.813366</td>\n",
       "      <td>2.485591</td>\n",
       "      <td>-0.807781</td>\n",
       "      <td>0.350523</td>\n",
       "      <td>-0.276442</td>\n",
       "    </tr>\n",
       "    <tr>\n",
       "      <th>5</th>\n",
       "      <td>1.480434</td>\n",
       "      <td>0.637022</td>\n",
       "      <td>0.557415</td>\n",
       "      <td>-1.055925</td>\n",
       "      <td>2.485591</td>\n",
       "      <td>1.261072</td>\n",
       "      <td>0.350523</td>\n",
       "      <td>1.338888</td>\n",
       "    </tr>\n",
       "    <tr>\n",
       "      <th>6</th>\n",
       "      <td>2.372296</td>\n",
       "      <td>0.684952</td>\n",
       "      <td>-2.739704</td>\n",
       "      <td>-1.055925</td>\n",
       "      <td>2.485591</td>\n",
       "      <td>1.908378</td>\n",
       "      <td>0.350523</td>\n",
       "      <td>0.620964</td>\n",
       "    </tr>\n",
       "    <tr>\n",
       "      <th>7</th>\n",
       "      <td>1.549911</td>\n",
       "      <td>-0.485022</td>\n",
       "      <td>-1.640664</td>\n",
       "      <td>-1.055925</td>\n",
       "      <td>2.485591</td>\n",
       "      <td>2.133594</td>\n",
       "      <td>0.350523</td>\n",
       "      <td>-0.455923</td>\n",
       "    </tr>\n",
       "    <tr>\n",
       "      <th>8</th>\n",
       "      <td>1.527511</td>\n",
       "      <td>0.397557</td>\n",
       "      <td>0.557415</td>\n",
       "      <td>0.956977</td>\n",
       "      <td>2.485591</td>\n",
       "      <td>1.441665</td>\n",
       "      <td>0.350523</td>\n",
       "      <td>2.056813</td>\n",
       "    </tr>\n",
       "    <tr>\n",
       "      <th>9</th>\n",
       "      <td>2.058092</td>\n",
       "      <td>0.867412</td>\n",
       "      <td>0.557415</td>\n",
       "      <td>0.191388</td>\n",
       "      <td>2.485591</td>\n",
       "      <td>2.469977</td>\n",
       "      <td>0.350523</td>\n",
       "      <td>-0.096961</td>\n",
       "    </tr>\n",
       "  </tbody>\n",
       "</table>\n",
       "</div>"
      ],
      "text/plain": [
       "     lcavol   lweight       age      lbph       svi       lcp   gleason  \\\n",
       "0  0.491462 -0.548499 -0.266865 -1.055925  2.485591  0.480567  0.350523   \n",
       "1  1.460023  2.603606  0.145275 -1.055925  2.485591  2.133594  0.350523   \n",
       "2  0.339049  0.213436  1.656455  0.531725  2.485591  0.870820  0.350523   \n",
       "3  1.855119  1.163733  0.557415 -1.055925 -0.397695 -0.807781 -0.975369   \n",
       "4  1.212746  0.172443 -0.404244  0.813366  2.485591 -0.807781  0.350523   \n",
       "5  1.480434  0.637022  0.557415 -1.055925  2.485591  1.261072  0.350523   \n",
       "6  2.372296  0.684952 -2.739704 -1.055925  2.485591  1.908378  0.350523   \n",
       "7  1.549911 -0.485022 -1.640664 -1.055925  2.485591  2.133594  0.350523   \n",
       "8  1.527511  0.397557  0.557415  0.956977  2.485591  1.441665  0.350523   \n",
       "9  2.058092  0.867412  0.557415  0.191388  2.485591  2.469977  0.350523   \n",
       "\n",
       "      pgg45  \n",
       "0  0.262001  \n",
       "1  1.338888  \n",
       "2  1.877332  \n",
       "3 -0.814886  \n",
       "4 -0.276442  \n",
       "5  1.338888  \n",
       "6  0.620964  \n",
       "7 -0.455923  \n",
       "8  2.056813  \n",
       "9 -0.096961  "
      ]
     },
     "execution_count": 10,
     "metadata": {},
     "output_type": "execute_result"
    }
   ],
   "source": [
    "Xtest"
   ]
  },
  {
   "cell_type": "code",
   "execution_count": 11,
   "metadata": {},
   "outputs": [],
   "source": [
    "ytest=prosttate_test[[\"lpsa\"]].copy()\n",
    "ytest=ytest.to_numpy()"
   ]
  },
  {
   "cell_type": "code",
   "execution_count": 12,
   "metadata": {},
   "outputs": [],
   "source": [
    "# now we predict using test set, we have 11 different lambdas so 11 different predict sets\n",
    "pred0= (Xtest @ B_ridge0.to_numpy()+b0).to_numpy()\n",
    "pred10=(Xtest @  B_ridge10.to_numpy()+b0).to_numpy()\n",
    "pred20=(Xtest @  B_ridge20.to_numpy()+b0).to_numpy()\n",
    "pred30=(Xtest @  B_ridge30.to_numpy()+b0).to_numpy()\n",
    "pred40=(Xtest @  B_ridge40.to_numpy()+b0).to_numpy()\n",
    "pred50=(Xtest @  B_ridge50.to_numpy()+b0).to_numpy()\n",
    "pred60=(Xtest @  B_ridge60.to_numpy()+b0).to_numpy()\n",
    "pred70=(Xtest @  B_ridge70.to_numpy()+b0).to_numpy()\n",
    "pred80=(Xtest @  B_ridge80.to_numpy()+b0).to_numpy()\n",
    "pred90=(Xtest @  B_ridge90.to_numpy()+b0).to_numpy()\n",
    "pred100=(Xtest @  B_ridge100.to_numpy()+b0).to_numpy()\n"
   ]
  },
  {
   "attachments": {},
   "cell_type": "markdown",
   "metadata": {},
   "source": [
    "Method I Problem 1"
   ]
  },
  {
   "cell_type": "code",
   "execution_count": 13,
   "metadata": {},
   "outputs": [],
   "source": [
    "# calculate MSE by 1/n * sum(actual-pred) ; 1/n * sum(pred-y)\n",
    "MSE0= (1/ytest.shape[0])* sum((ytest-pred0)**2)\n",
    "MSE10= (1/ytest.shape[0])* sum((ytest-pred10)**2)\n",
    "MSE20= (1/ytest.shape[0])* sum((ytest-pred20)**2)\n",
    "MSE30= (1/ytest.shape[0])* sum((ytest-pred30)**2)\n",
    "MSE40= (1/ytest.shape[0])* sum((ytest-pred40)**2)\n",
    "MSE50= (1/ytest.shape[0])* sum((ytest-pred50)**2)\n",
    "MSE60= (1/ytest.shape[0])* sum((ytest-pred60)**2)\n",
    "MSE70= (1/ytest.shape[0])* sum((ytest-pred70)**2)\n",
    "MSE80= (1/ytest.shape[0])* sum((ytest-pred80)**2)\n",
    "MSE90= (1/ytest.shape[0])* sum((ytest-pred90)**2)\n",
    "MSE100= (1/ytest.shape[0])* sum((ytest-pred100)**2)"
   ]
  },
  {
   "cell_type": "code",
   "execution_count": 14,
   "metadata": {},
   "outputs": [
    {
     "data": {
      "text/plain": [
       "[array([1.86403212]),\n",
       " array([2.09782514]),\n",
       " array([2.27128135]),\n",
       " array([2.41212767]),\n",
       " array([2.53226282]),\n",
       " array([2.6378046]),\n",
       " array([2.73235332]),\n",
       " array([2.81823346]),\n",
       " array([2.89704737]),\n",
       " array([2.96995444]),\n",
       " array([3.03782551])]"
      ]
     },
     "execution_count": 14,
     "metadata": {},
     "output_type": "execute_result"
    }
   ],
   "source": [
    "MSEs=[]\n",
    "MSEs.append([MSE0,MSE10,MSE20,MSE30,MSE40,MSE50,MSE60,MSE70,MSE80,MSE90,MSE100])\n",
    "MSEs[0]"
   ]
  },
  {
   "attachments": {},
   "cell_type": "markdown",
   "metadata": {},
   "source": [
    "| lambda | 0 | 10 | 20| 30|40|50|60|70|80|90|100|\n",
    "| --- | --- | --- |--- | --- | --- |--- | --- | --- | --- | --- | --- |\n",
    "| Method 1 | 1.86403212 | 2.09782514 |2.27128135 |2.41212767 |2.53226282 |2.6378046 |2.73235332 |2.81823346 |2.89704737 |2.96995444 |3.03782551 |"
   ]
  },
  {
   "attachments": {},
   "cell_type": "markdown",
   "metadata": {},
   "source": [
    "Method 1 Problem 2"
   ]
  },
  {
   "attachments": {},
   "cell_type": "markdown",
   "metadata": {},
   "source": [
    "since for method 1 we need to plot lambda= {0...10,000}, then I will recalculate every lambda and every degree of freedom"
   ]
  },
  {
   "cell_type": "code",
   "execution_count": 15,
   "metadata": {},
   "outputs": [],
   "source": [
    "prostatetrainplot = pd.read_csv('./prostate.training.txt', sep='\\t')\n",
    "Xplot = prostatetrainplot.to_numpy()\n",
    "Xplot = np.delete(Xplot, -1, axis=1)\n",
    "Xplot = np.delete(Xplot, 0, axis=1)\n",
    "\n",
    "yplot = prostatetrainplot['lpsa'].to_numpy()"
   ]
  },
  {
   "cell_type": "code",
   "execution_count": 16,
   "metadata": {},
   "outputs": [
    {
     "data": {
      "text/plain": [
       "array([ 1.18570909,  3.6037641 , 63.94252874,  0.15829533,  0.13793103,\n",
       "       -0.32893946,  6.73563218, 22.70114943])"
      ]
     },
     "execution_count": 16,
     "metadata": {},
     "output_type": "execute_result"
    }
   ],
   "source": [
    "xbarplot=Xplot.mean(axis=0)\n",
    "\n",
    "xbarplot"
   ]
  },
  {
   "cell_type": "code",
   "execution_count": 17,
   "metadata": {},
   "outputs": [
    {
     "data": {
      "text/plain": [
       "array([ 1.1044597 ,  0.42551202,  7.23712701,  1.45435223,  0.34482759,\n",
       "        1.30141706,  0.74986236, 27.69751013])"
      ]
     },
     "execution_count": 17,
     "metadata": {},
     "output_type": "execute_result"
    }
   ],
   "source": [
    "xplotstd=Xplot.std(axis=0)\n",
    "xplotstd"
   ]
  },
  {
   "cell_type": "code",
   "execution_count": 18,
   "metadata": {},
   "outputs": [],
   "source": [
    "Xplot=(Xplot-xbarplot)/xplotstd"
   ]
  },
  {
   "cell_type": "code",
   "execution_count": 19,
   "metadata": {},
   "outputs": [],
   "source": [
    "lambdas_for_M1 = np.arange(0,10001,1)\n",
    "beta_all = []\n",
    "for i in lambdas_for_M1:\n",
    "  beta_all.append(np.linalg.inv(Xplot.T@Xplot + i*np.identity(Xplot.shape[1]))@Xplot.T@yplot)\n"
   ]
  },
  {
   "cell_type": "code",
   "execution_count": 20,
   "metadata": {},
   "outputs": [],
   "source": [
    "df = np.zeros(len(lambdas_for_M1))\n",
    "for i, num in enumerate(lambdas_for_M1):\n",
    "    df[i] = np.trace(Xplot @ np.linalg.inv((Xplot.T @ Xplot) + num*np.identity(Xplot.shape[1])) @ Xplot.T)"
   ]
  },
  {
   "cell_type": "code",
   "execution_count": 21,
   "metadata": {},
   "outputs": [
    {
     "data": {
      "image/png": "[encoded data removed]",
      "text/plain": [
       "<Figure size 640x480 with 1 Axes>"
      ]
     },
     "metadata": {},
     "output_type": "display_data"
    }
   ],
   "source": [
    "import matplotlib.pyplot as plt\n",
    "plt.title(\"Regression Coef vs Effective degrees of freedom\")\n",
    "plt.xlabel(\"df(lambda)\")\n",
    "plt.ylabel(\"Regression Coefs\")\n",
    "plt.plot(df,beta_all)\n",
    "plt.legend([\"lcavol\",\"lweight\",\"age\",\"lbph\",\"svi\",\"lcp\",\"gleason\",\"pgg45\"])\n",
    "plt.show()\n"
   ]
  }
 ],
 "metadata": {
  "kernelspec": {
   "display_name": "Python 3",
   "language": "python",
   "name": "python3"
  },
  "language_info": {
   "codemirror_mode": {
    "name": "ipython",
    "version": 3
   },
   "file_extension": ".py",
   "mimetype": "text/x-python",
   "name": "python",
   "nbconvert_exporter": "python",
   "pygments_lexer": "ipython3",
   "version": "3.11.1"
  },
  "orig_nbformat": 4,
  "vscode": {
   "interpreter": {
    "hash": "40df35de3327895da810954653b870eeef9762cfdc8023f076776d713dc9360d"
   }
  }
 },
 "nbformat": 4,
 "nbformat_minor": 2
}
